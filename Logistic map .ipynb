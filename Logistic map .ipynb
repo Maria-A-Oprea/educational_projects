{
 "cells": [
  {
   "cell_type": "markdown",
   "id": "baf2b9e7",
   "metadata": {},
   "source": [
    "# What should the model be?\n",
    "\n",
    "We know that the population at the next time step be? Assume each rabbit multiplies with rate $r$. Then we can try \n",
    "$$x_{n + 1} = rx_{n}$$"
   ]
  },
  {
   "cell_type": "code",
   "execution_count": 1,
   "id": "2dc6b81f",
   "metadata": {},
   "outputs": [],
   "source": [
    "import matplotlib.pyplot as plt\n",
    "import numpy as np\n",
    "from ipywidgets import interact, widgets"
   ]
  },
  {
   "cell_type": "code",
   "execution_count": 6,
   "id": "d2f78777",
   "metadata": {},
   "outputs": [
    {
     "data": {
      "application/vnd.jupyter.widget-view+json": {
       "model_id": "098401857954494ba64cb77c4799aa36",
       "version_major": 2,
       "version_minor": 0
      },
      "text/plain": [
       "interactive(children=(FloatSlider(value=0.0, description='Initial population', max=1.0), Output()), _dom_class…"
      ]
     },
     "metadata": {},
     "output_type": "display_data"
    },
    {
     "data": {
      "text/plain": [
       "<function __main__.update_plot(x)>"
      ]
     },
     "execution_count": 6,
     "metadata": {},
     "output_type": "execute_result"
    }
   ],
   "source": [
    "def proposed_model(r, x):\n",
    "    #return r*x\n",
    "    return r * x * (1 - x)\n",
    "    \n",
    "def plot_model(x, r):\n",
    "    num_iterations = 100\n",
    "    values = np.zeros(num_iterations)\n",
    "    values [0] = x\n",
    "    for i in range(1, num_iterations):\n",
    "        values[i] = proposed_model(r, values[i - 1])\n",
    "    \n",
    "    plt.plot(np.arange(num_iterations), values, '*')\n",
    "    plt.title('Proposed Model')\n",
    "    plt.xlabel('n')\n",
    "    plt.ylabel('$x_n$')\n",
    "    #plt.ylim(0, 1)\n",
    "    plt.grid(True)\n",
    "    plt.show()\n",
    "    \n",
    "    \n",
    "#slider = widgets.FloatSlider(value=0, min=0, max=10, step=1, description='Initial population')\n",
    "slider = widgets.FloatSlider(value=0, min=0, max=1, step=0.1, description='Initial population')\n",
    "\n",
    "def update_plot(x):\n",
    "    plot_model(x, r = 3.1)\n",
    "    \n",
    "interact(update_plot, x =slider)"
   ]
  },
  {
   "cell_type": "markdown",
   "id": "cf98545b",
   "metadata": {},
   "source": [
    "# Chaos from the logistic map\n",
    "\n",
    "The function we are considering is:\n",
    "$$f(x) = rx ( 1- x) \\text{ on the interval }[0, 1]$$\n",
    "\n",
    "Below is a plot of it for different values of $r$."
   ]
  },
  {
   "cell_type": "code",
   "execution_count": 7,
   "id": "17359136",
   "metadata": {},
   "outputs": [
    {
     "data": {
      "application/vnd.jupyter.widget-view+json": {
       "model_id": "1395a778322d40e380da106c707f5045",
       "version_major": 2,
       "version_minor": 0
      },
      "text/plain": [
       "interactive(children=(FloatSlider(value=2.5, description='Growth Rate r', max=4.0), Output()), _dom_classes=('…"
      ]
     },
     "metadata": {},
     "output_type": "display_data"
    },
    {
     "data": {
      "text/plain": [
       "<function __main__.update_plot(r)>"
      ]
     },
     "execution_count": 7,
     "metadata": {},
     "output_type": "execute_result"
    }
   ],
   "source": [
    "\n",
    "\n",
    "def logistic_map(r, x):\n",
    "    return r * x * (1 - x)\n",
    "\n",
    "def plot_logistic_map(r):\n",
    "    # Parameters\n",
    "    x = np.linspace(0, 1, 1000)\n",
    "    \n",
    "    # Initialize plot\n",
    "    plt.figure(figsize=(8, 6))\n",
    "    \n",
    "    # Plot logistic map\n",
    "    plt.plot(x, logistic_map(r, x))\n",
    "    plt.plot(x, x)\n",
    "    # Customize plot\n",
    "    plt.title('Logistic Map')\n",
    "    plt.xlabel('x')\n",
    "    plt.ylabel('f(x)')\n",
    "    plt.ylim(0, 1)\n",
    "    plt.grid(True)\n",
    "    plt.show()\n",
    "\n",
    "# Create interactive slider\n",
    "slider = widgets.FloatSlider(value=2.5, min=0, max=4, step=0.1, description='Growth Rate r')\n",
    "\n",
    "# Define the update function for the slider\n",
    "def update_plot(r):\n",
    "    plot_logistic_map(r)\n",
    "\n",
    "# Connect the slider to the update function\n",
    "interact(update_plot, r=slider)\n",
    "\n",
    "# Display the initial plot\n",
    "#plot_logistic_map(slider.value)\n"
   ]
  },
  {
   "cell_type": "markdown",
   "id": "4bd7865a",
   "metadata": {},
   "source": [
    "## Cobweb plots "
   ]
  },
  {
   "cell_type": "code",
   "execution_count": 8,
   "id": "d6232c56",
   "metadata": {
    "scrolled": true
   },
   "outputs": [
    {
     "data": {
      "application/vnd.jupyter.widget-view+json": {
       "model_id": "2ba3273ac2204fa18b0b394c9ada66e8",
       "version_major": 2,
       "version_minor": 0
      },
      "text/plain": [
       "interactive(children=(FloatSlider(value=2.5, description='Growth Rate', max=4.0, step=0.01), FloatSlider(value…"
      ]
     },
     "metadata": {},
     "output_type": "display_data"
    },
    {
     "data": {
      "text/plain": [
       "<function __main__.update_plot(r, x0, num_iterations)>"
      ]
     },
     "execution_count": 8,
     "metadata": {},
     "output_type": "execute_result"
    }
   ],
   "source": [
    "def plot_logistic_map(r, x0, num_iterations):\n",
    "    # Initialize plot\n",
    "    plt.figure(figsize=(12, 6))\n",
    "    \n",
    "    # Plot logistic map curve\n",
    "    x = np.linspace(0, 1, 1000)\n",
    "    plt.plot(x, logistic_map(r, x), 'b-', label='Logistic Map')\n",
    "\n",
    "    # Plot y=x line\n",
    "    plt.plot([0, 1], [0, 1], 'r--', label='y=x')\n",
    "\n",
    "    # Plot cobweb\n",
    "    x = x0\n",
    "    for _ in range(num_iterations):\n",
    "        y = logistic_map(r, x)\n",
    "        plt.plot([x, x], [x, y], 'g-', linewidth=1)  # Vertical line\n",
    "        plt.plot([x, y], [y, y], 'g-', linewidth=1)  # Horizontal line\n",
    "        x = y\n",
    "\n",
    "    # Customize plot\n",
    "    plt.title('Logistic Map with Cobweb Plot')\n",
    "    plt.xlabel('Population (x)')\n",
    "    plt.ylabel('Next Population')\n",
    "    plt.legend()\n",
    "    plt.grid(True)\n",
    "    plt.show()\n",
    "\n",
    "# Create interactive sliders\n",
    "slider_r = widgets.FloatSlider(value=2.5, min=0, max=4, step=0.01, description='Growth Rate')\n",
    "slider_x0 = widgets.FloatSlider(value=0.2, min=0, max=1, step=0.01, description='Initial Population')\n",
    "slider_iterations = widgets.IntSlider(value=10, min=1, max=100, step=1, description='Iterations')\n",
    "\n",
    "# Define the update function for the sliders\n",
    "def update_plot(r, x0, num_iterations):\n",
    "    plot_logistic_map(r, x0, num_iterations)\n",
    "\n",
    "# Connect the sliders to the update function\n",
    "interact(update_plot, r=slider_r, x0=slider_x0, num_iterations=slider_iterations)\n",
    "\n",
    "# Display the initial plot\n",
    "#plot_logistic_map(slider_r.value, slider_x0.value, slider_iterations.value)\n",
    "\n"
   ]
  },
  {
   "cell_type": "markdown",
   "id": "8ef309e1",
   "metadata": {},
   "source": [
    "## Iterations of the map"
   ]
  },
  {
   "cell_type": "code",
   "execution_count": 9,
   "id": "40555e9b",
   "metadata": {},
   "outputs": [
    {
     "data": {
      "application/vnd.jupyter.widget-view+json": {
       "model_id": "e57b5134a29c416abd91351ecff659df",
       "version_major": 2,
       "version_minor": 0
      },
      "text/plain": [
       "interactive(children=(FloatSlider(value=2.5, description='Growth Rate', max=4.0, step=0.01), FloatSlider(value…"
      ]
     },
     "metadata": {},
     "output_type": "display_data"
    },
    {
     "data": {
      "text/plain": [
       "<function __main__.update_plot(r, x0)>"
      ]
     },
     "execution_count": 9,
     "metadata": {},
     "output_type": "execute_result"
    }
   ],
   "source": [
    "def plot_logistic_map_iterations(r, x0, num_iterations):\n",
    "    # Initialize plot\n",
    "    plt.figure(figsize=(12, 6))\n",
    "    \n",
    "    # Plot iterations\n",
    "    values = np.zeros(num_iterations)\n",
    "    values[0] = x0\n",
    "    for i in range(1, num_iterations):\n",
    "        values[i] = logistic_map(r, values[i - 1])\n",
    "        \n",
    "    plt.plot(np.arange(0, num_iterations), values, 'b*')\n",
    "    plt.plot(np.arange(0, num_iterations), values, 'b')\n",
    "\n",
    "\n",
    "    # Customize plot\n",
    "    plt.title(f'Logistic Map - First {num_iterations} Iterations')\n",
    "    plt.xlabel('Population (x)')\n",
    "    plt.ylabel('Next Population')\n",
    "    plt.grid(True)\n",
    "    plt.show()\n",
    "\n",
    "# Create interactive slider for growth rate (r)\n",
    "slider_r = widgets.FloatSlider(value=2.5, min=0, max=4, step=0.01, description='Growth Rate')\n",
    "\n",
    "# Create interactive slider for initial conditions\n",
    "slider_x0 = widgets.FloatSlider(value=0.2, min=0, max=1, step=0.01, description='Initial Population')\n",
    "\n",
    "# Define the update function for the sliders\n",
    "def update_plot(r, x0):\n",
    "    plot_logistic_map_iterations(r, x0, num_iterations=50)\n",
    "\n",
    "# Connect the sliders to the update function\n",
    "interact(update_plot, r=slider_r, x0=slider_x0)\n",
    "\n",
    "# Display the initial plot\n",
    "# plot_logistic_map_iterations(slider_r.value, slider_x0.value, num_iterations=100)"
   ]
  },
  {
   "cell_type": "code",
   "execution_count": 4,
   "id": "993e4eb9",
   "metadata": {},
   "outputs": [
    {
     "data": {
      "image/png": "[encoded data removed]",
      "text/plain": [
       "<Figure size 1000x600 with 1 Axes>"
      ]
     },
     "metadata": {},
     "output_type": "display_data"
    }
   ],
   "source": [
    "\n",
    "\n",
    "def plot_bifurcation_diagram(r_values, x0, num_iterations_per_point, skip_iterations=100):\n",
    "    plt.figure(figsize=(10, 6))\n",
    "\n",
    "    for r in r_values:\n",
    "        x = x0\n",
    "        for _ in range(skip_iterations):\n",
    "            x = r * x * (1 - x)\n",
    "        \n",
    "        x_values = []\n",
    "        for _ in range(num_iterations_per_point):\n",
    "            x = r * x * (1 - x)\n",
    "            x_values.append(x)\n",
    "        \n",
    "        plt.plot([r] * len(x_values), x_values, 'b.', markersize=1)\n",
    "\n",
    "    plt.title('Bifurcation Diagram of the Logistic Map')\n",
    "    plt.xlabel('Growth Rate (r)')\n",
    "    plt.ylabel('Population')\n",
    "    ax = plt.gca()\n",
    "    #ax.set_xlim(3.5, 4)\n",
    "    #ax.set_ylim(0.7, 1)\n",
    "    plt.show()\n",
    "\n",
    "# Specify the range of growth rates (r values) and other parameters\n",
    "r_values = np.linspace(2.4, 4.0, 1000)  # Adjust the range as needed\n",
    "x0 = 0.2\n",
    "num_iterations_per_point = 1000\n",
    "\n",
    "# Generate and plot the bifurcation diagram\n",
    "plot_bifurcation_diagram(r_values, x0, num_iterations_per_point)\n"
   ]
  },
  {
   "cell_type": "markdown",
   "id": "30f30487",
   "metadata": {},
   "source": [
    "Here we plot the second and third iteration of the map "
   ]
  },
  {
   "cell_type": "code",
   "execution_count": 80,
   "id": "61dfbe76",
   "metadata": {},
   "outputs": [
    {
     "data": {
      "application/vnd.jupyter.widget-view+json": {
       "model_id": "cc6f6d0e128b4d26b32802341f2b6fa0",
       "version_major": 2,
       "version_minor": 0
      },
      "text/plain": [
       "interactive(children=(FloatSlider(value=2.5, description='Growth Rate r', max=4.0), Output()), _dom_classes=('…"
      ]
     },
     "metadata": {},
     "output_type": "display_data"
    },
    {
     "data": {
      "text/plain": [
       "<function __main__.update_plot(r)>"
      ]
     },
     "execution_count": 80,
     "metadata": {},
     "output_type": "execute_result"
    }
   ],
   "source": [
    "def plot_logistic_map_2(r):\n",
    "    # Parameters\n",
    "    x = np.linspace(0, 1, 1000)\n",
    "    \n",
    "    # Initialize plot\n",
    "    plt.figure(figsize=(8, 6))\n",
    "    \n",
    "    # Plot logistic map\n",
    "    plt.plot(x, logistic_map(r, logistic_map(r, logistic_map(r, x))), label = '$y = f^{(2)}$')\n",
    "    plt.plot(x, x, 'r', label = \"y = x\")\n",
    "    # Customize plot\n",
    "    plt.title('$f(f(x))$')\n",
    "    plt.xlabel('x')\n",
    "    plt.ylim(0, 1)\n",
    "    plt.grid(True)\n",
    "    plt.legend()\n",
    "    plt.show()\n",
    "\n",
    "# Create interactive slider\n",
    "slider = widgets.FloatSlider(value=2.5, min=0, max=4, step=0.1, description='Growth Rate r')\n",
    "\n",
    "# Define the update function for the slider\n",
    "def update_plot(r):\n",
    "    plot_logistic_map_2(r)\n",
    "\n",
    "# Connect the slider to the update function\n",
    "interact(update_plot, r=slider)\n",
    "\n",
    "# Display the initial plot\n",
    "#plot_logistic_map(slider.value)\n"
   ]
  },
  {
   "cell_type": "code",
   "execution_count": 45,
   "id": "8e8c7ec9",
   "metadata": {},
   "outputs": [],
   "source": [
    "def formula_two_cycle(r):\n",
    "    return [0, (r - 1)/r, (r - 1 + np.sqrt((r - 3)*(r + 1)/(2*r))),(r - 1 - np.sqrt((r - 3)*(r + 1)/(2*r))) ]"
   ]
  },
  {
   "cell_type": "code",
   "execution_count": 47,
   "id": "5695ade4",
   "metadata": {},
   "outputs": [
    {
     "data": {
      "text/plain": [
       "[0, 0.6774193548387097, 2.357155657643507, 1.842844342356493]"
      ]
     },
     "execution_count": 47,
     "metadata": {},
     "output_type": "execute_result"
    }
   ],
   "source": [
    "formula_two_cycle(3.1)"
   ]
  },
  {
   "cell_type": "markdown",
   "id": "57a25dae",
   "metadata": {},
   "source": [
    "# Characteristics of chaos\n",
    "Here we fix r = 3.57 and plot the trajectories from two different intial conditions"
   ]
  },
  {
   "cell_type": "code",
   "execution_count": 72,
   "id": "bfd46ec7",
   "metadata": {},
   "outputs": [
    {
     "data": {
      "text/plain": [
       "[<matplotlib.lines.Line2D at 0x7fb8504f4e20>]"
      ]
     },
     "execution_count": 72,
     "metadata": {},
     "output_type": "execute_result"
    },
    {
     "data": {
      "image/png": "[encoded data removed]",
      "text/plain": [
       "<Figure size 640x480 with 1 Axes>"
      ]
     },
     "metadata": {},
     "output_type": "display_data"
    }
   ],
   "source": [
    "    # Plot iterations\n",
    "    num_iterations = 100\n",
    "    values = np.zeros(num_iterations)\n",
    "    values[0] = 0.2\n",
    "    for i in range(1, num_iterations):\n",
    "        values[i] = logistic_map(3.57, values[i - 1])\n",
    "        \n",
    "    plt.plot(np.arange(0, num_iterations), values, 'b*')\n",
    "    #plt.plot(np.arange(0, num_iterations), values, 'b')\n",
    "\n",
    "\n",
    "    # Customize plot\n",
    "    plt.title(f'Logistic Map - First {num_iterations} Iterations')\n",
    "    plt.xlabel('Population (x)')\n",
    "    plt.ylabel('Next Population')\n",
    "    plt.grid(True)\n",
    "    \n",
    "    values = np.zeros(num_iterations)\n",
    "    values[0] = 0.21\n",
    "    for i in range(1, num_iterations):\n",
    "        values[i] = logistic_map(3.57, values[i - 1])\n",
    "        \n",
    "    plt.plot(np.arange(0, num_iterations), values, 'r*')\n",
    "    #plt.plot(np.arange(0, num_iterations), values, 'r')\n",
    "\n",
    "    \n",
    " "
   ]
  },
  {
   "cell_type": "code",
   "execution_count": 52,
   "id": "2d38b48b",
   "metadata": {},
   "outputs": [
    {
     "data": {
      "text/plain": [
       "-4"
      ]
     },
     "execution_count": 52,
     "metadata": {},
     "output_type": "execute_result"
    }
   ],
   "source": [
    "logistic_map(2, 2)"
   ]
  },
  {
   "cell_type": "code",
   "execution_count": null,
   "id": "16ffa3ed",
   "metadata": {},
   "outputs": [],
   "source": []
  }
 ],
 "metadata": {
  "kernelspec": {
   "display_name": "Python 3 (ipykernel)",
   "language": "python",
   "name": "python3"
  },
  "language_info": {
   "codemirror_mode": {
    "name": "ipython",
    "version": 3
   },
   "file_extension": ".py",
   "mimetype": "text/x-python",
   "name": "python",
   "nbconvert_exporter": "python",
   "pygments_lexer": "ipython3",
   "version": "3.9.13"
  }
 },
 "nbformat": 4,
 "nbformat_minor": 5
}
